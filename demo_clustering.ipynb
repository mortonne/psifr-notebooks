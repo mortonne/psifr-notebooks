{
 "cells": [
  {
   "cell_type": "markdown",
   "metadata": {},
   "source": [
    "# Analysis of temporal clustering\n",
    "\n",
    "Recall order can be affected by many influences, including temporal contiguity, stimulus category, and semantic clustering. Multiple methods exist for measuring each of these influences. Making matters more complicated, measuring different factors may require controlling for other factors.\n",
    "\n",
    "Here, we'll focus on temporal clustering while controlling for stimulus category. As in prior tutorials, we will examine the dataset of Morton et al. (2013), where participants recalled from lists composed of celebrities, landmarks, and objects."
   ]
  },
  {
   "cell_type": "code",
   "execution_count": 1,
   "metadata": {},
   "outputs": [],
   "source": [
    "import os\n",
    "import sys\n",
    "import numpy as np\n",
    "import pandas as pd\n",
    "import matplotlib.pyplot as plt\n",
    "import seaborn as sns\n",
    "import importlib\n",
    "\n",
    "module_path = '/Users/morton/PycharmProjects/psifr'\n",
    "if module_path not in sys.path:\n",
    "    sys.path.append(module_path)\n",
    "from psifr import fr\n",
    "data_file = os.path.join(module_path, 'data', 'cfr_raw_data.csv')"
   ]
  },
  {
   "cell_type": "code",
   "execution_count": 2,
   "metadata": {},
   "outputs": [],
   "source": [
    "df = pd.read_csv(data_file, dtype={'category': 'category'})\n",
    "df.category.cat.as_ordered(inplace=True)\n",
    "\n",
    "study = df.query('trial_type == \"study\"').copy()\n",
    "recall = df.query('trial_type == \"recall\"').copy()\n",
    "data = fr.merge_lists(study, recall, \n",
    "                      list_keys=['list_type', 'list_category'], \n",
    "                      study_keys=['category'])"
   ]
  },
  {
   "cell_type": "code",
   "execution_count": 3,
   "metadata": {},
   "outputs": [
    {
     "data": {
      "text/html": [
       "<div>\n",
       "<style scoped>\n",
       "    .dataframe tbody tr th:only-of-type {\n",
       "        vertical-align: middle;\n",
       "    }\n",
       "\n",
       "    .dataframe tbody tr th {\n",
       "        vertical-align: top;\n",
       "    }\n",
       "\n",
       "    .dataframe thead th {\n",
       "        text-align: right;\n",
       "    }\n",
       "</style>\n",
       "<table border=\"1\" class=\"dataframe\">\n",
       "  <thead>\n",
       "    <tr style=\"text-align: right;\">\n",
       "      <th></th>\n",
       "      <th>subject</th>\n",
       "      <th>list</th>\n",
       "      <th>item</th>\n",
       "      <th>input</th>\n",
       "      <th>output</th>\n",
       "      <th>recalled</th>\n",
       "      <th>repeat</th>\n",
       "      <th>intrusion</th>\n",
       "      <th>list_type</th>\n",
       "      <th>list_category</th>\n",
       "      <th>category</th>\n",
       "    </tr>\n",
       "  </thead>\n",
       "  <tbody>\n",
       "    <tr>\n",
       "      <th>0</th>\n",
       "      <td>1</td>\n",
       "      <td>1</td>\n",
       "      <td>TOWEL</td>\n",
       "      <td>1.0</td>\n",
       "      <td>13.0</td>\n",
       "      <td>True</td>\n",
       "      <td>0</td>\n",
       "      <td>False</td>\n",
       "      <td>pure</td>\n",
       "      <td>obj</td>\n",
       "      <td>obj</td>\n",
       "    </tr>\n",
       "    <tr>\n",
       "      <th>1</th>\n",
       "      <td>1</td>\n",
       "      <td>1</td>\n",
       "      <td>LADLE</td>\n",
       "      <td>2.0</td>\n",
       "      <td>NaN</td>\n",
       "      <td>False</td>\n",
       "      <td>0</td>\n",
       "      <td>False</td>\n",
       "      <td>pure</td>\n",
       "      <td>obj</td>\n",
       "      <td>obj</td>\n",
       "    </tr>\n",
       "    <tr>\n",
       "      <th>2</th>\n",
       "      <td>1</td>\n",
       "      <td>1</td>\n",
       "      <td>THERMOS</td>\n",
       "      <td>3.0</td>\n",
       "      <td>NaN</td>\n",
       "      <td>False</td>\n",
       "      <td>0</td>\n",
       "      <td>False</td>\n",
       "      <td>pure</td>\n",
       "      <td>obj</td>\n",
       "      <td>obj</td>\n",
       "    </tr>\n",
       "    <tr>\n",
       "      <th>3</th>\n",
       "      <td>1</td>\n",
       "      <td>1</td>\n",
       "      <td>LEGO</td>\n",
       "      <td>4.0</td>\n",
       "      <td>18.0</td>\n",
       "      <td>True</td>\n",
       "      <td>0</td>\n",
       "      <td>False</td>\n",
       "      <td>pure</td>\n",
       "      <td>obj</td>\n",
       "      <td>obj</td>\n",
       "    </tr>\n",
       "    <tr>\n",
       "      <th>4</th>\n",
       "      <td>1</td>\n",
       "      <td>1</td>\n",
       "      <td>BACKPACK</td>\n",
       "      <td>5.0</td>\n",
       "      <td>10.0</td>\n",
       "      <td>True</td>\n",
       "      <td>0</td>\n",
       "      <td>False</td>\n",
       "      <td>pure</td>\n",
       "      <td>obj</td>\n",
       "      <td>obj</td>\n",
       "    </tr>\n",
       "    <tr>\n",
       "      <th>...</th>\n",
       "      <td>...</td>\n",
       "      <td>...</td>\n",
       "      <td>...</td>\n",
       "      <td>...</td>\n",
       "      <td>...</td>\n",
       "      <td>...</td>\n",
       "      <td>...</td>\n",
       "      <td>...</td>\n",
       "      <td>...</td>\n",
       "      <td>...</td>\n",
       "      <td>...</td>\n",
       "    </tr>\n",
       "    <tr>\n",
       "      <th>48168</th>\n",
       "      <td>47</td>\n",
       "      <td>48</td>\n",
       "      <td>ALEX RODRIGUEZ</td>\n",
       "      <td>20.0</td>\n",
       "      <td>6.0</td>\n",
       "      <td>True</td>\n",
       "      <td>0</td>\n",
       "      <td>False</td>\n",
       "      <td>mixed</td>\n",
       "      <td>mixed</td>\n",
       "      <td>cel</td>\n",
       "    </tr>\n",
       "    <tr>\n",
       "      <th>48169</th>\n",
       "      <td>47</td>\n",
       "      <td>48</td>\n",
       "      <td>AL PACINO</td>\n",
       "      <td>21.0</td>\n",
       "      <td>4.0</td>\n",
       "      <td>True</td>\n",
       "      <td>0</td>\n",
       "      <td>False</td>\n",
       "      <td>mixed</td>\n",
       "      <td>mixed</td>\n",
       "      <td>cel</td>\n",
       "    </tr>\n",
       "    <tr>\n",
       "      <th>48170</th>\n",
       "      <td>47</td>\n",
       "      <td>48</td>\n",
       "      <td>NELSON MANDELA</td>\n",
       "      <td>22.0</td>\n",
       "      <td>3.0</td>\n",
       "      <td>True</td>\n",
       "      <td>0</td>\n",
       "      <td>False</td>\n",
       "      <td>mixed</td>\n",
       "      <td>mixed</td>\n",
       "      <td>cel</td>\n",
       "    </tr>\n",
       "    <tr>\n",
       "      <th>48171</th>\n",
       "      <td>47</td>\n",
       "      <td>48</td>\n",
       "      <td>VIN DIESEL</td>\n",
       "      <td>23.0</td>\n",
       "      <td>2.0</td>\n",
       "      <td>True</td>\n",
       "      <td>0</td>\n",
       "      <td>False</td>\n",
       "      <td>mixed</td>\n",
       "      <td>mixed</td>\n",
       "      <td>cel</td>\n",
       "    </tr>\n",
       "    <tr>\n",
       "      <th>48172</th>\n",
       "      <td>47</td>\n",
       "      <td>48</td>\n",
       "      <td>JESSICA SIMPSON</td>\n",
       "      <td>24.0</td>\n",
       "      <td>1.0</td>\n",
       "      <td>True</td>\n",
       "      <td>0</td>\n",
       "      <td>False</td>\n",
       "      <td>mixed</td>\n",
       "      <td>mixed</td>\n",
       "      <td>cel</td>\n",
       "    </tr>\n",
       "  </tbody>\n",
       "</table>\n",
       "<p>48173 rows × 11 columns</p>\n",
       "</div>"
      ],
      "text/plain": [
       "       subject  list             item  input  output  recalled  repeat  \\\n",
       "0            1     1            TOWEL    1.0    13.0      True       0   \n",
       "1            1     1            LADLE    2.0     NaN     False       0   \n",
       "2            1     1          THERMOS    3.0     NaN     False       0   \n",
       "3            1     1             LEGO    4.0    18.0      True       0   \n",
       "4            1     1         BACKPACK    5.0    10.0      True       0   \n",
       "...        ...   ...              ...    ...     ...       ...     ...   \n",
       "48168       47    48   ALEX RODRIGUEZ   20.0     6.0      True       0   \n",
       "48169       47    48        AL PACINO   21.0     4.0      True       0   \n",
       "48170       47    48   NELSON MANDELA   22.0     3.0      True       0   \n",
       "48171       47    48       VIN DIESEL   23.0     2.0      True       0   \n",
       "48172       47    48  JESSICA SIMPSON   24.0     1.0      True       0   \n",
       "\n",
       "       intrusion list_type list_category category  \n",
       "0          False      pure           obj      obj  \n",
       "1          False      pure           obj      obj  \n",
       "2          False      pure           obj      obj  \n",
       "3          False      pure           obj      obj  \n",
       "4          False      pure           obj      obj  \n",
       "...          ...       ...           ...      ...  \n",
       "48168      False     mixed         mixed      cel  \n",
       "48169      False     mixed         mixed      cel  \n",
       "48170      False     mixed         mixed      cel  \n",
       "48171      False     mixed         mixed      cel  \n",
       "48172      False     mixed         mixed      cel  \n",
       "\n",
       "[48173 rows x 11 columns]"
      ]
     },
     "execution_count": 3,
     "metadata": {},
     "output_type": "execute_result"
    }
   ],
   "source": [
    "data"
   ]
  },
  {
   "cell_type": "markdown",
   "metadata": {},
   "source": [
    "## Temporal clustering\n",
    "\n",
    "First, we'll use a conditional response probability by lag (lag-CRP) analysis to measure temporal clustering. We'll first examine the pure lists, which all contain items from the same category. The `lag_crp` function automatically excludes repeats (which are deemed invalid because they involve repeating previously recalled items) and intrusions (which are invalid because their input position is undefined)."
   ]
  },
  {
   "cell_type": "code",
   "execution_count": 4,
   "metadata": {},
   "outputs": [
    {
     "data": {
      "text/html": [
       "<div>\n",
       "<style scoped>\n",
       "    .dataframe tbody tr th:only-of-type {\n",
       "        vertical-align: middle;\n",
       "    }\n",
       "\n",
       "    .dataframe tbody tr th {\n",
       "        vertical-align: top;\n",
       "    }\n",
       "\n",
       "    .dataframe thead th {\n",
       "        text-align: right;\n",
       "    }\n",
       "</style>\n",
       "<table border=\"1\" class=\"dataframe\">\n",
       "  <thead>\n",
       "    <tr style=\"text-align: right;\">\n",
       "      <th></th>\n",
       "      <th></th>\n",
       "      <th>prob</th>\n",
       "      <th>actual</th>\n",
       "      <th>possible</th>\n",
       "    </tr>\n",
       "    <tr>\n",
       "      <th>subject</th>\n",
       "      <th>lag</th>\n",
       "      <th></th>\n",
       "      <th></th>\n",
       "      <th></th>\n",
       "    </tr>\n",
       "  </thead>\n",
       "  <tbody>\n",
       "    <tr>\n",
       "      <th rowspan=\"5\" valign=\"top\">1</th>\n",
       "      <th>-23</th>\n",
       "      <td>0.000000</td>\n",
       "      <td>0</td>\n",
       "      <td>18</td>\n",
       "    </tr>\n",
       "    <tr>\n",
       "      <th>-22</th>\n",
       "      <td>0.060606</td>\n",
       "      <td>2</td>\n",
       "      <td>33</td>\n",
       "    </tr>\n",
       "    <tr>\n",
       "      <th>-21</th>\n",
       "      <td>0.045455</td>\n",
       "      <td>2</td>\n",
       "      <td>44</td>\n",
       "    </tr>\n",
       "    <tr>\n",
       "      <th>-20</th>\n",
       "      <td>0.063830</td>\n",
       "      <td>3</td>\n",
       "      <td>47</td>\n",
       "    </tr>\n",
       "    <tr>\n",
       "      <th>-19</th>\n",
       "      <td>0.000000</td>\n",
       "      <td>0</td>\n",
       "      <td>54</td>\n",
       "    </tr>\n",
       "    <tr>\n",
       "      <th>...</th>\n",
       "      <th>...</th>\n",
       "      <td>...</td>\n",
       "      <td>...</td>\n",
       "      <td>...</td>\n",
       "    </tr>\n",
       "    <tr>\n",
       "      <th rowspan=\"5\" valign=\"top\">47</th>\n",
       "      <th>19</th>\n",
       "      <td>0.058824</td>\n",
       "      <td>1</td>\n",
       "      <td>17</td>\n",
       "    </tr>\n",
       "    <tr>\n",
       "      <th>20</th>\n",
       "      <td>0.000000</td>\n",
       "      <td>0</td>\n",
       "      <td>14</td>\n",
       "    </tr>\n",
       "    <tr>\n",
       "      <th>21</th>\n",
       "      <td>0.000000</td>\n",
       "      <td>0</td>\n",
       "      <td>9</td>\n",
       "    </tr>\n",
       "    <tr>\n",
       "      <th>22</th>\n",
       "      <td>0.000000</td>\n",
       "      <td>0</td>\n",
       "      <td>4</td>\n",
       "    </tr>\n",
       "    <tr>\n",
       "      <th>23</th>\n",
       "      <td>0.000000</td>\n",
       "      <td>0</td>\n",
       "      <td>2</td>\n",
       "    </tr>\n",
       "  </tbody>\n",
       "</table>\n",
       "<p>1880 rows × 3 columns</p>\n",
       "</div>"
      ],
      "text/plain": [
       "                 prob  actual  possible\n",
       "subject lag                            \n",
       "1       -23  0.000000       0        18\n",
       "        -22  0.060606       2        33\n",
       "        -21  0.045455       2        44\n",
       "        -20  0.063830       3        47\n",
       "        -19  0.000000       0        54\n",
       "...               ...     ...       ...\n",
       "47       19  0.058824       1        17\n",
       "         20  0.000000       0        14\n",
       "         21  0.000000       0         9\n",
       "         22  0.000000       0         4\n",
       "         23  0.000000       0         2\n",
       "\n",
       "[1880 rows x 3 columns]"
      ]
     },
     "execution_count": 4,
     "metadata": {},
     "output_type": "execute_result"
    }
   ],
   "source": [
    "pure = data.loc[data['list_type'] == 'pure']\n",
    "crp = fr.lag_crp(pure)\n",
    "crp"
   ]
  },
  {
   "cell_type": "markdown",
   "metadata": {},
   "source": [
    "Each row in the results corresponds to one lag bin for one subject. The columns give the number of times the participant actually made that transition (conditional on the transition not including a repeat of a previously recalled item), the number of times that transition was possible (conditional on the items not yet recalled), and the probability calculated by dividing actual by possible. If a transition was never possible, the probability will be `NaN`; this applies to lag zero, which by definition was never \"possible\" because repeated recalls are defined as invalid for the purpose of this analysis.\n",
    "\n",
    "Next, we can use Seaborn to visualize the results. Seaborn will connect the -1 and +1 lags, but convention is to not connect these points. We'll plot in two parts to get around this. At the same time, we select the lags that we want to include in the plot, using the pandas `query` method."
   ]
  },
  {
   "cell_type": "code",
   "execution_count": 5,
   "metadata": {},
   "outputs": [
    {
     "data": {
      "image/png": "[encoded data removed]",
      "text/plain": [
       "<Figure size 432x288 with 1 Axes>"
      ]
     },
     "metadata": {
      "needs_background": "light"
     },
     "output_type": "display_data"
    }
   ],
   "source": [
    "g = sns.lineplot(x='lag', y='prob', color='b',\n",
    "                 data=crp.query('-5 <= lag < 0').reset_index())\n",
    "g = sns.lineplot(x='lag', y='prob', color='b',\n",
    "                 data=crp.query('5 >= lag > 0').reset_index())\n",
    "g.set_xlabel('Lag');\n",
    "g.set_ylabel('Conditional response probability');\n",
    "g.set_ylim(0, .25);"
   ]
  },
  {
   "cell_type": "markdown",
   "metadata": {},
   "source": [
    "### Temporal clustering as a function of category\n",
    "\n",
    "As for calculating recall performance, we can use the filtering and grouping functionality of pandas to split the data up any way we want. For analysis of recall transitions, however, we must take care to keep entire recall sequences together. This ensures that, for example, transitions to and from an intrusion are excluded. If output positions are missing, `lag_crp` will throw an error."
   ]
  },
  {
   "cell_type": "code",
   "execution_count": 6,
   "metadata": {},
   "outputs": [],
   "source": [
    "# this would throw an error because we've removed repeats from\n",
    "# the recall sequences\n",
    "#fr.lag_crp(pure.query('repeat == 0'))"
   ]
  },
  {
   "cell_type": "markdown",
   "metadata": {},
   "source": [
    "Here, we'll split lists by category using the `list_category` field. When running `merge_lists`, we specified that field as applying to all events in each list; this includes intrusions. Therefore, we can group by the `list_category` field and still keep the original recall sequence together even though intrusions have no defined category.\n",
    "\n",
    "We can apply the analysis to multiple groups by combining `groupby` with `apply`, passing in the lag CRP function."
   ]
  },
  {
   "cell_type": "code",
   "execution_count": 7,
   "metadata": {},
   "outputs": [
    {
     "data": {
      "text/html": [
       "<div>\n",
       "<style scoped>\n",
       "    .dataframe tbody tr th:only-of-type {\n",
       "        vertical-align: middle;\n",
       "    }\n",
       "\n",
       "    .dataframe tbody tr th {\n",
       "        vertical-align: top;\n",
       "    }\n",
       "\n",
       "    .dataframe thead th {\n",
       "        text-align: right;\n",
       "    }\n",
       "</style>\n",
       "<table border=\"1\" class=\"dataframe\">\n",
       "  <thead>\n",
       "    <tr style=\"text-align: right;\">\n",
       "      <th></th>\n",
       "      <th></th>\n",
       "      <th></th>\n",
       "      <th>prob</th>\n",
       "      <th>actual</th>\n",
       "      <th>possible</th>\n",
       "    </tr>\n",
       "    <tr>\n",
       "      <th>list_category</th>\n",
       "      <th>subject</th>\n",
       "      <th>lag</th>\n",
       "      <th></th>\n",
       "      <th></th>\n",
       "      <th></th>\n",
       "    </tr>\n",
       "  </thead>\n",
       "  <tbody>\n",
       "    <tr>\n",
       "      <th rowspan=\"5\" valign=\"top\">cel</th>\n",
       "      <th rowspan=\"5\" valign=\"top\">1</th>\n",
       "      <th>-23</th>\n",
       "      <td>0.000000</td>\n",
       "      <td>0</td>\n",
       "      <td>6</td>\n",
       "    </tr>\n",
       "    <tr>\n",
       "      <th>-22</th>\n",
       "      <td>0.083333</td>\n",
       "      <td>1</td>\n",
       "      <td>12</td>\n",
       "    </tr>\n",
       "    <tr>\n",
       "      <th>-21</th>\n",
       "      <td>0.062500</td>\n",
       "      <td>1</td>\n",
       "      <td>16</td>\n",
       "    </tr>\n",
       "    <tr>\n",
       "      <th>-20</th>\n",
       "      <td>0.000000</td>\n",
       "      <td>0</td>\n",
       "      <td>16</td>\n",
       "    </tr>\n",
       "    <tr>\n",
       "      <th>-19</th>\n",
       "      <td>0.000000</td>\n",
       "      <td>0</td>\n",
       "      <td>18</td>\n",
       "    </tr>\n",
       "    <tr>\n",
       "      <th>...</th>\n",
       "      <th>...</th>\n",
       "      <th>...</th>\n",
       "      <td>...</td>\n",
       "      <td>...</td>\n",
       "      <td>...</td>\n",
       "    </tr>\n",
       "    <tr>\n",
       "      <th rowspan=\"5\" valign=\"top\">obj</th>\n",
       "      <th rowspan=\"5\" valign=\"top\">47</th>\n",
       "      <th>19</th>\n",
       "      <td>0.000000</td>\n",
       "      <td>0</td>\n",
       "      <td>4</td>\n",
       "    </tr>\n",
       "    <tr>\n",
       "      <th>20</th>\n",
       "      <td>0.000000</td>\n",
       "      <td>0</td>\n",
       "      <td>1</td>\n",
       "    </tr>\n",
       "    <tr>\n",
       "      <th>21</th>\n",
       "      <td>0.000000</td>\n",
       "      <td>0</td>\n",
       "      <td>1</td>\n",
       "    </tr>\n",
       "    <tr>\n",
       "      <th>22</th>\n",
       "      <td>NaN</td>\n",
       "      <td>0</td>\n",
       "      <td>0</td>\n",
       "    </tr>\n",
       "    <tr>\n",
       "      <th>23</th>\n",
       "      <td>NaN</td>\n",
       "      <td>0</td>\n",
       "      <td>0</td>\n",
       "    </tr>\n",
       "  </tbody>\n",
       "</table>\n",
       "<p>5640 rows × 3 columns</p>\n",
       "</div>"
      ],
      "text/plain": [
       "                               prob  actual  possible\n",
       "list_category subject lag                            \n",
       "cel           1       -23  0.000000       0         6\n",
       "                      -22  0.083333       1        12\n",
       "                      -21  0.062500       1        16\n",
       "                      -20  0.000000       0        16\n",
       "                      -19  0.000000       0        18\n",
       "...                             ...     ...       ...\n",
       "obj           47       19  0.000000       0         4\n",
       "                       20  0.000000       0         1\n",
       "                       21  0.000000       0         1\n",
       "                       22       NaN       0         0\n",
       "                       23       NaN       0         0\n",
       "\n",
       "[5640 rows x 3 columns]"
      ]
     },
     "execution_count": 7,
     "metadata": {},
     "output_type": "execute_result"
    }
   ],
   "source": [
    "pure_crp_cat = pure.groupby(['list_category']).apply(fr.lag_crp)\n",
    "pure_crp_cat"
   ]
  },
  {
   "cell_type": "markdown",
   "metadata": {},
   "source": [
    "We now have results of the analysis similar to before, but with an additional index of `list_category`. We can use this in a plot to quickly compare categories."
   ]
  },
  {
   "cell_type": "code",
   "execution_count": 8,
   "metadata": {},
   "outputs": [
    {
     "data": {
      "image/png": "[encoded data removed]",
      "text/plain": [
       "<Figure size 432x288 with 1 Axes>"
      ]
     },
     "metadata": {
      "needs_background": "light"
     },
     "output_type": "display_data"
    }
   ],
   "source": [
    "g = sns.lineplot(x='lag', y='prob', hue='list_category', \n",
    "                 data=pure_crp_cat.query('-5 <= lag < 0').reset_index())\n",
    "g = sns.lineplot(x='lag', y='prob', hue='list_category', legend=False,\n",
    "                 data=pure_crp_cat.query('5 >= lag > 0').reset_index())\n",
    "g.set_xlabel('Lag');\n",
    "g.set_ylabel('Conditional response probability');\n",
    "g.set_ylim(0, .25);"
   ]
  },
  {
   "cell_type": "markdown",
   "metadata": {},
   "source": [
    "## Filtering transitions\n",
    "\n",
    "While the above methods allow us to quickly analyze groups of lists, in some cases we may want to focus on specific transitions. For example, in the mixed lists, items are grouped in category blocks. As participants tend to group together items from the same category during recall, this may cause temporal clustering to be artificially inflated. We can separate out temporal clustering from category clustering by analyzing within-category transitions and between-category transitions separately.\n",
    "\n",
    "This involves two parts: (1) category labels for each item, here stored in the `category` field; and (2) a rule indicating whether to include a given transition, based on the category labels of the items involved."
   ]
  },
  {
   "cell_type": "markdown",
   "metadata": {},
   "source": [
    "### Within-category transitions"
   ]
  },
  {
   "cell_type": "code",
   "execution_count": 9,
   "metadata": {},
   "outputs": [
    {
     "data": {
      "image/png": "[encoded data removed]",
      "text/plain": [
       "<Figure size 432x288 with 1 Axes>"
      ]
     },
     "metadata": {
      "needs_background": "light"
     },
     "output_type": "display_data"
    }
   ],
   "source": [
    "# get mixed lists\n",
    "mixed = data.loc[data['list_type'] == 'mixed']\n",
    "\n",
    "# only include transitions between items with the same category label\n",
    "crp = fr.lag_crp(mixed, test_key='category', test=lambda x, y: x == y)\n",
    "\n",
    "g = sns.lineplot(x='lag', y='prob', color='b',\n",
    "                 data=crp.query('-5 <= lag < 0').reset_index())\n",
    "g = sns.lineplot(x='lag', y='prob', color='b',\n",
    "                 data=crp.query('5 >= lag > 0').reset_index())\n",
    "g.set_xlabel('Lag');\n",
    "g.set_ylabel('Conditional response probability');\n",
    "g.set_ylim(0, .5);"
   ]
  },
  {
   "cell_type": "markdown",
   "metadata": {},
   "source": [
    "### Between-category transitions"
   ]
  },
  {
   "cell_type": "code",
   "execution_count": 10,
   "metadata": {},
   "outputs": [
    {
     "data": {
      "image/png": "[encoded data removed]",
      "text/plain": [
       "<Figure size 432x288 with 1 Axes>"
      ]
     },
     "metadata": {
      "needs_background": "light"
     },
     "output_type": "display_data"
    }
   ],
   "source": [
    "# only include transitions between items with different category labels\n",
    "crp = fr.lag_crp(mixed, test_key='category', test=lambda x, y: x != y)\n",
    "\n",
    "g = sns.lineplot(x='lag', y='prob', color='b',\n",
    "                 data=crp.query('-5 <= lag < 0').reset_index())\n",
    "g = sns.lineplot(x='lag', y='prob', color='b',\n",
    "                 data=crp.query('5 >= lag > 0').reset_index())\n",
    "g.set_xlabel('Lag');\n",
    "g.set_ylabel('Conditional response probability');\n",
    "g.set_ylim(0, .5);"
   ]
  },
  {
   "cell_type": "markdown",
   "metadata": {},
   "source": [
    "### Within-category transitions separated by category\n",
    "\n",
    "For each category, we'll test that both the item being transitioned from and the item being transitioned to are from that category."
   ]
  },
  {
   "cell_type": "code",
   "execution_count": 11,
   "metadata": {},
   "outputs": [],
   "source": [
    "crp_list = []\n",
    "categories = mixed['category'].cat.categories\n",
    "for category in categories:\n",
    "    cat_crp = fr.lag_crp(\n",
    "        mixed, test_key='category',\n",
    "        test=lambda x, y: (x == category) and (y == category))\n",
    "    crp_list.append(cat_crp)\n",
    "crp = pd.concat(crp_list, keys=categories, axis=0)\n",
    "crp.index = crp.index.set_names('category', level=0)"
   ]
  },
  {
   "cell_type": "code",
   "execution_count": 12,
   "metadata": {},
   "outputs": [
    {
     "data": {
      "image/png": "[encoded data removed]",
      "text/plain": [
       "<Figure size 360x288 with 1 Axes>"
      ]
     },
     "metadata": {
      "needs_background": "light"
     },
     "output_type": "display_data"
    }
   ],
   "source": [
    "fig, ax = plt.subplots(figsize=(5, 4))\n",
    "g = sns.lineplot(x='lag', y='prob', hue='category', ax=ax, legend=False,\n",
    "                 data=crp.query('-5 <= lag < 0').reset_index())\n",
    "g = sns.lineplot(x='lag', y='prob', hue='category', legend=False, ax=ax,\n",
    "                 data=crp.query('5 >= lag > 0').reset_index())\n",
    "g.set_xlabel('Lag');\n",
    "g.set_ylabel('Conditional response probability');\n",
    "g.set_ylim(0, .5);"
   ]
  }
 ],
 "metadata": {
  "kernelspec": {
   "display_name": "cfr",
   "language": "python",
   "name": "cfr"
  },
  "language_info": {
   "codemirror_mode": {
    "name": "ipython",
    "version": 3
   },
   "file_extension": ".py",
   "mimetype": "text/x-python",
   "name": "python",
   "nbconvert_exporter": "python",
   "pygments_lexer": "ipython3",
   "version": "3.8.1"
  }
 },
 "nbformat": 4,
 "nbformat_minor": 4
}
